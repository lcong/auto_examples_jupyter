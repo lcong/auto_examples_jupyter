{
  "cells": [
    {
      "cell_type": "markdown",
      "metadata": {},
      "source": [
        "\n# Metadata\n\nONNX format contains metadata related to how the\nmodel was produced. It is useful when the model\nis deployed to production to keep track of which\ninstance was used at a specific time.\nLet's see how to do that with a simple\nlogistic regression model trained with\n*scikit-learn* and converted with *sklearn-onnx*.\n"
      ]
    },
    {
      "cell_type": "code",
      "execution_count": null,
      "metadata": {
        "collapsed": false
      },
      "outputs": [],
      "source": [
        "from onnxruntime.datasets import get_example\n\nexample = get_example(\"logreg_iris.onnx\")\n\nimport onnx  # noqa: E402\n\nmodel = onnx.load(example)\n\nprint(f\"doc_string={model.doc_string}\")\nprint(f\"domain={model.domain}\")\nprint(f\"ir_version={model.ir_version}\")\nprint(f\"metadata_props={model.metadata_props}\")\nprint(f\"model_version={model.model_version}\")\nprint(f\"producer_name={model.producer_name}\")\nprint(f\"producer_version={model.producer_version}\")"
      ]
    },
    {
      "cell_type": "markdown",
      "metadata": {},
      "source": [
        "With *ONNX Runtime*:\n\n"
      ]
    },
    {
      "cell_type": "code",
      "execution_count": null,
      "metadata": {
        "collapsed": false
      },
      "outputs": [],
      "source": [
        "import onnxruntime as rt  # noqa: E402\n\nsess = rt.InferenceSession(example, providers=rt.get_available_providers())\nmeta = sess.get_modelmeta()\n\nprint(f\"custom_metadata_map={meta.custom_metadata_map}\")\nprint(f\"description={meta.description}\")\nprint(f\"domain={meta.domain}\")\nprint(f\"graph_name={meta.graph_name}\")\nprint(f\"producer_name={meta.producer_name}\")\nprint(f\"version={meta.version}\")"
      ]
    }
  ],
  "metadata": {
    "kernelspec": {
      "display_name": "Python 3",
      "language": "python",
      "name": "python3"
    },
    "language_info": {
      "codemirror_mode": {
        "name": "ipython",
        "version": 3
      },
      "file_extension": ".py",
      "mimetype": "text/x-python",
      "name": "python",
      "nbconvert_exporter": "python",
      "pygments_lexer": "ipython3",
      "version": "3.10.12"
    }
  },
  "nbformat": 4,
  "nbformat_minor": 0
}