{
 "cells": [
  {
   "cell_type": "markdown",
   "metadata": {},
   "source": [
    "\n",
    "\n",
    "# Load and predict with ONNX Runtime and a very simple model\n",
    "\n",
    "This example demonstrates how to load a model and compute\n",
    "the output for an input vector. It also shows how to\n",
    "retrieve the definition of its inputs and outputs.\n"
   ]
  },
  {
   "cell_type": "code",
   "execution_count": 1,
   "metadata": {
    "ExecuteTime": {
     "end_time": "2024-04-10T08:00:08.084124Z",
     "start_time": "2024-04-10T08:00:08.023081Z"
    }
   },
   "outputs": [],
   "source": [
    "import numpy\n",
    "import onnxruntime as rt\n",
    "from onnxruntime.datasets import get_example"
   ]
  },
  {
   "cell_type": "markdown",
   "metadata": {},
   "source": [
    "Let's load a very simple model.\n",
    "The model is available on github [onnx...test_sigmoid](https://github.com/onnx/onnx/blob/main/onnx/backend/test/data/node/test_sigmoid).\n",
    "\n"
   ]
  },
  {
   "cell_type": "code",
   "execution_count": 3,
   "metadata": {
    "ExecuteTime": {
     "end_time": "2024-04-10T08:00:17.214081Z",
     "start_time": "2024-04-10T08:00:17.199971Z"
    }
   },
   "outputs": [],
   "source": [
    "example1 = get_example(\"sigmoid.onnx\")\n",
    "# sess = rt.InferenceSession(example1, providers=rt.get_available_providers())\n",
    "sess = rt.InferenceSession(example1)"
   ]
  },
  {
   "cell_type": "markdown",
   "metadata": {},
   "source": [
    "Let's see the input name and shape."
   ]
  },
  {
   "cell_type": "code",
   "execution_count": 4,
   "metadata": {
    "ExecuteTime": {
     "end_time": "2024-04-10T08:00:18.537586Z",
     "start_time": "2024-04-10T08:00:18.524459Z"
    }
   },
   "outputs": [
    {
     "name": "stdout",
     "output_type": "stream",
     "text": [
      "input name x\n",
      "input shape [3, 4, 5]\n",
      "input type tensor(float)\n"
     ]
    }
   ],
   "source": [
    "input_name = sess.get_inputs()[0].name\n",
    "print(\"input name\", input_name)\n",
    "input_shape = sess.get_inputs()[0].shape\n",
    "print(\"input shape\", input_shape)\n",
    "input_type = sess.get_inputs()[0].type\n",
    "print(\"input type\", input_type)"
   ]
  },
  {
   "cell_type": "markdown",
   "metadata": {},
   "source": [
    "Let's see the output name and shape.\n",
    "\n"
   ]
  },
  {
   "cell_type": "code",
   "execution_count": 5,
   "metadata": {
    "ExecuteTime": {
     "end_time": "2024-04-10T08:00:19.421234Z",
     "start_time": "2024-04-10T08:00:19.412163Z"
    }
   },
   "outputs": [
    {
     "name": "stdout",
     "output_type": "stream",
     "text": [
      "output name y\n",
      "output shape [3, 4, 5]\n",
      "output type tensor(float)\n"
     ]
    }
   ],
   "source": [
    "output_name = sess.get_outputs()[0].name\n",
    "print(\"output name\", output_name)\n",
    "output_shape = sess.get_outputs()[0].shape\n",
    "print(\"output shape\", output_shape)\n",
    "output_type = sess.get_outputs()[0].type\n",
    "print(\"output type\", output_type)"
   ]
  },
  {
   "cell_type": "markdown",
   "metadata": {},
   "source": [
    "Let's compute its outputs (or predictions if it is a machine learned model).\n",
    "\n"
   ]
  },
  {
   "cell_type": "code",
   "execution_count": 6,
   "metadata": {
    "ExecuteTime": {
     "end_time": "2024-04-10T08:00:20.332969Z",
     "start_time": "2024-04-10T08:00:20.319969Z"
    }
   },
   "outputs": [
    {
     "name": "stdout",
     "output_type": "stream",
     "text": [
      "[array([[[0.56205803, 0.5872952 , 0.60836166, 0.6572534 , 0.6506723 ],\n",
      "        [0.7205461 , 0.6502407 , 0.6268418 , 0.5138478 , 0.71364975],\n",
      "        [0.6657937 , 0.65441597, 0.55664724, 0.695953  , 0.6572852 ],\n",
      "        [0.6739831 , 0.6040119 , 0.64135796, 0.6892135 , 0.5591025 ]],\n",
      "\n",
      "       [[0.5954146 , 0.63982636, 0.61895007, 0.6961371 , 0.5249764 ],\n",
      "        [0.58094245, 0.69687676, 0.6791202 , 0.5300475 , 0.55411965],\n",
      "        [0.54380953, 0.69044006, 0.52049303, 0.6006016 , 0.5968696 ],\n",
      "        [0.52927375, 0.6041898 , 0.5580019 , 0.72860354, 0.5677825 ]],\n",
      "\n",
      "       [[0.651523  , 0.51760095, 0.53407335, 0.728858  , 0.61742705],\n",
      "        [0.5329663 , 0.66950846, 0.62357724, 0.5277094 , 0.5581289 ],\n",
      "        [0.548497  , 0.5330947 , 0.71271527, 0.69042   , 0.7198499 ],\n",
      "        [0.686832  , 0.6985824 , 0.5175891 , 0.6231282 , 0.62251365]]],\n",
      "      dtype=float32)]\n"
     ]
    }
   ],
   "source": [
    "import numpy.random  # noqa: E402\n",
    "\n",
    "x = numpy.random.random((3, 4, 5))\n",
    "x = x.astype(numpy.float32)\n",
    "res = sess.run([output_name], {input_name: x})\n",
    "print(res)"
   ]
  },
  {
   "cell_type": "code",
   "execution_count": null,
   "metadata": {},
   "outputs": [],
   "source": []
  },
  {
   "cell_type": "code",
   "execution_count": null,
   "metadata": {},
   "outputs": [],
   "source": []
  }
 ],
 "metadata": {
  "hide_input": false,
  "kernelspec": {
   "display_name": "Python 3 (ipykernel)",
   "language": "python",
   "name": "python3"
  },
  "language_info": {
   "codemirror_mode": {
    "name": "ipython",
    "version": 3
   },
   "file_extension": ".py",
   "mimetype": "text/x-python",
   "name": "python",
   "nbconvert_exporter": "python",
   "pygments_lexer": "ipython3",
   "version": "3.8.18"
  },
  "toc": {
   "base_numbering": 1,
   "nav_menu": {},
   "number_sections": true,
   "sideBar": true,
   "skip_h1_title": false,
   "title_cell": "Table of Contents",
   "title_sidebar": "Contents",
   "toc_cell": false,
   "toc_position": {},
   "toc_section_display": true,
   "toc_window_display": false
  },
  "varInspector": {
   "cols": {
    "lenName": 16,
    "lenType": 16,
    "lenVar": 40
   },
   "kernels_config": {
    "python": {
     "delete_cmd_postfix": "",
     "delete_cmd_prefix": "del ",
     "library": "var_list.py",
     "varRefreshCmd": "print(var_dic_list())"
    },
    "r": {
     "delete_cmd_postfix": ") ",
     "delete_cmd_prefix": "rm(",
     "library": "var_list.r",
     "varRefreshCmd": "cat(var_dic_list()) "
    }
   },
   "types_to_exclude": [
    "module",
    "function",
    "builtin_function_or_method",
    "instance",
    "_Feature"
   ],
   "window_display": false
  }
 },
 "nbformat": 4,
 "nbformat_minor": 1
}
