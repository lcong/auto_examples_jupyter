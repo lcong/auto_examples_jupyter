{
 "cells": [
  {
   "cell_type": "markdown",
   "metadata": {},
   "source": [
    "\n",
    "# Draw a pipeline\n",
    "\n",
    "There is no other way to look into one model stored\n",
    "in ONNX format than looking into its node with\n",
    "*onnx*. This example demonstrates\n",
    "how to draw a model and to retrieve it in *json*\n",
    "format.\n",
    "\n",
    "## Retrieve a model in JSON format\n",
    "\n",
    "That's the most simple way.\n"
   ]
  },
  {
   "cell_type": "code",
   "execution_count": 1,
   "metadata": {
    "ExecuteTime": {
     "end_time": "2024-04-10T07:54:22.486130Z",
     "start_time": "2024-04-10T07:54:22.363148Z"
    }
   },
   "outputs": [
    {
     "name": "stdout",
     "output_type": "stream",
     "text": [
      "ir_version: 3\n",
      "producer_name: \"chenta\"\n",
      "graph {\n",
      "  node {\n",
      "    input: \"X\"\n",
      "    input: \"W\"\n",
      "    output: \"Y\"\n",
      "    name: \"mul_1\"\n",
      "    op_type: \"Mul\"\n",
      "  }\n",
      "  name: \"mul test\"\n",
      "  initializer {\n",
      "    dims: 3\n",
      "    dims: 2\n",
      "    data_type: 1\n",
      "    float_data: 1.0\n",
      "    float_data: 2.0\n",
      "    float_data: 3.0\n",
      "    float_data: 4.0\n",
      "    float_data: 5.0\n",
      "    float_data: 6.0\n",
      "    name: \"W\"\n",
      "  }\n",
      "  input {\n",
      "    name: \"X\"\n",
      "    type {\n",
      "      tensor_type {\n",
      "        elem_type: 1\n",
      "        shape {\n",
      "          dim {\n",
      "            dim_value: 3\n",
      "          }\n",
      "          dim {\n",
      "            dim_value: 2\n",
      "          }\n",
      "        }\n",
      "      }\n",
      "    }\n",
      "  }\n",
      "  output {\n",
      "    name: \"Y\"\n",
      "    type {\n",
      "      tensor_type {\n",
      "        elem_type: 1\n",
      "        shape {\n",
      "          dim {\n",
      "            dim_value: 3\n",
      "          }\n",
      "          dim {\n",
      "            dim_value: 2\n",
      "          }\n",
      "        }\n",
      "      }\n",
      "    }\n",
      "  }\n",
      "}\n",
      "opset_import {\n",
      "  domain: \"\"\n",
      "  version: 7\n",
      "}\n",
      "\n"
     ]
    }
   ],
   "source": [
    "from onnxruntime.datasets import get_example\n",
    "\n",
    "example1 = get_example(\"mul_1.onnx\")\n",
    "\n",
    "import onnx  # noqa: E402\n",
    "\n",
    "model = onnx.load(example1)  # model is a ModelProto protobuf message\n",
    "\n",
    "print(model)"
   ]
  },
  {
   "cell_type": "markdown",
   "metadata": {},
   "source": [
    "## Draw a model with ONNX\n",
    "We use [net_drawer.py](https://github.com/onnx/onnx/blob/main/onnx/tools/net_drawer.py)\n",
    "included in *onnx* package.\n",
    "We use *onnx* to load the model\n",
    "in a different way than before.\n",
    "\n"
   ]
  },
  {
   "cell_type": "code",
   "execution_count": 5,
   "metadata": {
    "ExecuteTime": {
     "end_time": "2024-04-10T07:58:35.302103Z",
     "start_time": "2024-04-10T07:58:35.294339Z"
    }
   },
   "outputs": [],
   "source": [
    "from onnx import ModelProto  # noqa: E402\n",
    "\n",
    "model = ModelProto()\n",
    "with open(example1, \"rb\") as fid:\n",
    "    content = fid.read()\n",
    "    model.ParseFromString(content)"
   ]
  },
  {
   "cell_type": "markdown",
   "metadata": {},
   "source": [
    "We convert it into a graph.\n",
    "\n"
   ]
  },
  {
   "cell_type": "code",
   "execution_count": 6,
   "metadata": {
    "ExecuteTime": {
     "end_time": "2024-04-10T07:58:36.276180Z",
     "start_time": "2024-04-10T07:58:36.148090Z"
    }
   },
   "outputs": [],
   "source": [
    "from onnx.tools.net_drawer import GetOpNodeProducer, GetPydotGraph  # noqa: E402\n",
    "\n",
    "pydot_graph = GetPydotGraph(\n",
    "    model.graph, name=model.graph.name, rankdir=\"LR\", node_producer=GetOpNodeProducer(\"docstring\")\n",
    ")\n",
    "pydot_graph.write_dot(\"graph.dot\")"
   ]
  },
  {
   "cell_type": "markdown",
   "metadata": {},
   "source": [
    "Then into an image\n",
    "\n"
   ]
  },
  {
   "cell_type": "code",
   "execution_count": 7,
   "metadata": {
    "ExecuteTime": {
     "end_time": "2024-04-10T07:58:37.733866Z",
     "start_time": "2024-04-10T07:58:37.619174Z"
    }
   },
   "outputs": [
    {
     "data": {
      "text/plain": [
       "0"
      ]
     },
     "execution_count": 7,
     "metadata": {},
     "output_type": "execute_result"
    }
   ],
   "source": [
    "import os  # noqa: E402\n",
    "\n",
    "os.system(\"dot -O -Tpng graph.dot\")"
   ]
  },
  {
   "cell_type": "markdown",
   "metadata": {},
   "source": [
    "Which we display...\n",
    "\n"
   ]
  },
  {
   "cell_type": "code",
   "execution_count": 8,
   "metadata": {
    "ExecuteTime": {
     "end_time": "2024-04-10T07:58:40.076804Z",
     "start_time": "2024-04-10T07:58:38.877539Z"
    }
   },
   "outputs": [
    {
     "data": {
      "text/plain": [
       "<matplotlib.image.AxesImage at 0x1fa5ae64190>"
      ]
     },
     "execution_count": 8,
     "metadata": {},
     "output_type": "execute_result"
    },
    {
     "data": {
      "image/png": "[encoded data removed]",
      "text/plain": [
       "<Figure size 640x480 with 1 Axes>"
      ]
     },
     "metadata": {},
     "output_type": "display_data"
    }
   ],
   "source": [
    "import matplotlib.pyplot as plt  # noqa: E402\n",
    "\n",
    "image = plt.imread(\"graph.dot.png\")\n",
    "plt.imshow(image)"
   ]
  },
  {
   "cell_type": "code",
   "execution_count": null,
   "metadata": {},
   "outputs": [],
   "source": []
  }
 ],
 "metadata": {
  "hide_input": false,
  "kernelspec": {
   "display_name": "Python 3 (ipykernel)",
   "language": "python",
   "name": "python3"
  },
  "language_info": {
   "codemirror_mode": {
    "name": "ipython",
    "version": 3
   },
   "file_extension": ".py",
   "mimetype": "text/x-python",
   "name": "python",
   "nbconvert_exporter": "python",
   "pygments_lexer": "ipython3",
   "version": "3.8.18"
  },
  "toc": {
   "base_numbering": 1,
   "nav_menu": {},
   "number_sections": true,
   "sideBar": true,
   "skip_h1_title": false,
   "title_cell": "Table of Contents",
   "title_sidebar": "Contents",
   "toc_cell": false,
   "toc_position": {},
   "toc_section_display": true,
   "toc_window_display": false
  },
  "varInspector": {
   "cols": {
    "lenName": 16,
    "lenType": 16,
    "lenVar": 40
   },
   "kernels_config": {
    "python": {
     "delete_cmd_postfix": "",
     "delete_cmd_prefix": "del ",
     "library": "var_list.py",
     "varRefreshCmd": "print(var_dic_list())"
    },
    "r": {
     "delete_cmd_postfix": ") ",
     "delete_cmd_prefix": "rm(",
     "library": "var_list.r",
     "varRefreshCmd": "cat(var_dic_list()) "
    }
   },
   "types_to_exclude": [
    "module",
    "function",
    "builtin_function_or_method",
    "instance",
    "_Feature"
   ],
   "window_display": false
  }
 },
 "nbformat": 4,
 "nbformat_minor": 1
}
