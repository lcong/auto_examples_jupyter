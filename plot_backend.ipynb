{
 "cells": [
  {
   "cell_type": "markdown",
   "metadata": {},
   "source": [
    "\n",
    "\n",
    "# ONNX Runtime Backend for ONNX\n",
    "\n",
    "*ONNX Runtime* extends the\n",
    "[onnx backend API](https://github.com/onnx/onnx/blob/main/docs/ImplementingAnOnnxBackend.md)\n",
    "to run predictions using this runtime.\n",
    "Let's use the API to compute the prediction\n",
    "of a simple logistic regression model.\n"
   ]
  },
  {
   "cell_type": "code",
   "execution_count": 1,
   "metadata": {
    "ExecuteTime": {
     "end_time": "2024-04-10T08:00:45.946101Z",
     "start_time": "2024-04-10T08:00:45.831641Z"
    }
   },
   "outputs": [],
   "source": [
    "import numpy as np\n",
    "from onnx import load\n",
    "\n",
    "import onnxruntime.backend as backend"
   ]
  },
  {
   "cell_type": "markdown",
   "metadata": {},
   "source": [
    "The device depends on how the package was compiled,\n",
    "GPU or CPU.\n",
    "\n"
   ]
  },
  {
   "cell_type": "code",
   "execution_count": 3,
   "metadata": {
    "ExecuteTime": {
     "end_time": "2024-04-10T08:01:23.370583Z",
     "start_time": "2024-04-10T08:01:23.319494Z"
    }
   },
   "outputs": [
    {
     "name": "stdout",
     "output_type": "stream",
     "text": [
      "*************** EP Error ***************\n",
      "EP Error D:\\a\\_work\\1\\s\\onnxruntime\\python\\onnxruntime_pybind_state.cc:456 onnxruntime::python::RegisterTensorRTPluginsAsCustomOps Please install TensorRT libraries as mentioned in the GPU requirements page, make sure they're in the PATH or LD_LIBRARY_PATH, and that your GPU is supported.\n",
      " when using ['TensorrtExecutionProvider', 'CUDAExecutionProvider', 'CPUExecutionProvider']\n",
      "Falling back to ['CUDAExecutionProvider', 'CPUExecutionProvider'] and retrying.\n",
      "****************************************\n",
      "[ONNXRuntimeError] : 2 : INVALID_ARGUMENT : Got invalid dimensions for input: float_input for the following indices\n",
      " index: 0 Got: 1 Expected: 3\n",
      " Please fix either the inputs/outputs or the model.\n"
     ]
    }
   ],
   "source": [
    "from onnxruntime import datasets, get_device\n",
    "from onnxruntime.capi.onnxruntime_pybind11_state import InvalidArgument\n",
    "\n",
    "device = get_device()\n",
    "\n",
    "name = datasets.get_example(\"logreg_iris.onnx\")\n",
    "model = load(name)\n",
    "\n",
    "rep = backend.prepare(model, device)\n",
    "\n",
    "\n",
    "x = np.array([[-1.0, -2.0]], dtype=np.float32)\n",
    "try:\n",
    "    label, proba = rep.run(x)\n",
    "    print(f\"label={label}\")\n",
    "    print(f\"probabilities={proba}\")\n",
    "except (RuntimeError, InvalidArgument) as e:\n",
    "    print(e)"
   ]
  },
  {
   "cell_type": "markdown",
   "metadata": {},
   "source": [
    "The backend can also directly load the model\n",
    "without using *onnx*.\n",
    "\n"
   ]
  },
  {
   "cell_type": "code",
   "execution_count": 4,
   "metadata": {
    "ExecuteTime": {
     "end_time": "2024-04-10T08:01:27.354064Z",
     "start_time": "2024-04-10T08:01:27.287863Z"
    }
   },
   "outputs": [
    {
     "name": "stdout",
     "output_type": "stream",
     "text": [
      "*************** EP Error ***************\n",
      "EP Error D:\\a\\_work\\1\\s\\onnxruntime\\python\\onnxruntime_pybind_state.cc:456 onnxruntime::python::RegisterTensorRTPluginsAsCustomOps Please install TensorRT libraries as mentioned in the GPU requirements page, make sure they're in the PATH or LD_LIBRARY_PATH, and that your GPU is supported.\n",
      " when using ['TensorrtExecutionProvider', 'CUDAExecutionProvider', 'CPUExecutionProvider']\n",
      "Falling back to ['CUDAExecutionProvider', 'CPUExecutionProvider'] and retrying.\n",
      "****************************************\n",
      "[ONNXRuntimeError] : 2 : INVALID_ARGUMENT : Got invalid dimensions for input: float_input for the following indices\n",
      " index: 0 Got: 1 Expected: 3\n",
      " Please fix either the inputs/outputs or the model.\n"
     ]
    }
   ],
   "source": [
    "rep = backend.prepare(name, device)\n",
    "x = np.array([[-1.0, -2.0]], dtype=np.float32)\n",
    "try:\n",
    "    label, proba = rep.run(x)\n",
    "    print(f\"label={label}\")\n",
    "    print(f\"probabilities={proba}\")\n",
    "except (RuntimeError, InvalidArgument) as e:\n",
    "    print(e)"
   ]
  },
  {
   "cell_type": "markdown",
   "metadata": {},
   "source": [
    "The backend API is implemented by other frameworks\n",
    "and makes it easier to switch between multiple runtimes\n",
    "with the same API.\n",
    "\n"
   ]
  }
 ],
 "metadata": {
  "hide_input": false,
  "kernelspec": {
   "display_name": "Python 3 (ipykernel)",
   "language": "python",
   "name": "python3"
  },
  "language_info": {
   "codemirror_mode": {
    "name": "ipython",
    "version": 3
   },
   "file_extension": ".py",
   "mimetype": "text/x-python",
   "name": "python",
   "nbconvert_exporter": "python",
   "pygments_lexer": "ipython3",
   "version": "3.8.18"
  },
  "toc": {
   "base_numbering": 1,
   "nav_menu": {},
   "number_sections": true,
   "sideBar": true,
   "skip_h1_title": false,
   "title_cell": "Table of Contents",
   "title_sidebar": "Contents",
   "toc_cell": false,
   "toc_position": {},
   "toc_section_display": true,
   "toc_window_display": false
  },
  "varInspector": {
   "cols": {
    "lenName": 16,
    "lenType": 16,
    "lenVar": 40
   },
   "kernels_config": {
    "python": {
     "delete_cmd_postfix": "",
     "delete_cmd_prefix": "del ",
     "library": "var_list.py",
     "varRefreshCmd": "print(var_dic_list())"
    },
    "r": {
     "delete_cmd_postfix": ") ",
     "delete_cmd_prefix": "rm(",
     "library": "var_list.r",
     "varRefreshCmd": "cat(var_dic_list()) "
    }
   },
   "types_to_exclude": [
    "module",
    "function",
    "builtin_function_or_method",
    "instance",
    "_Feature"
   ],
   "window_display": false
  }
 },
 "nbformat": 4,
 "nbformat_minor": 1
}
